{
 "cells": [
  {
   "cell_type": "markdown",
   "id": "knowing-latter",
   "metadata": {},
   "source": [
    "# Using `tables_io` to write to an hdf5 file from multiple places"
   ]
  },
  {
   "cell_type": "code",
   "execution_count": 20,
   "id": "settled-tractor",
   "metadata": {},
   "outputs": [],
   "source": [
    "# Standard imports\n",
    "import os\n",
    "from collections import OrderedDict\n",
    "import numpy as np\n",
    "import tables_io\n",
    "#from ..tests.testUtils import make_test_data\n",
    "import astropy.table as apTable\n",
    "from mpi4py import MPI"
   ]
  },
  {
   "cell_type": "markdown",
   "id": "foster-english",
   "metadata": {},
   "source": [
    "## Set up \n",
    "\n",
    "### Some test data.\n",
    "\n",
    "Ok, lets make some test data write it to an hdf5 file."
   ]
  },
  {
   "cell_type": "code",
   "execution_count": 13,
   "id": "16ae81f8",
   "metadata": {},
   "outputs": [],
   "source": [
    "def make_test_data():\n",
    "    nrow = 1000\n",
    "    vect_size = 20\n",
    "    mat_size = 5\n",
    "    scalar = np.random.uniform(size=nrow)\n",
    "    vect = np.random.uniform(size=nrow * vect_size).reshape(nrow, vect_size)\n",
    "    matrix = np.random.uniform(size=nrow * mat_size * mat_size).reshape(nrow, mat_size, mat_size)\n",
    "    data = dict(scalar=scalar, vect=vect, matrix=matrix)\n",
    "    table = apTable.Table(data)\n",
    "    table.meta[\"a\"] = 1\n",
    "    table.meta[\"b\"] = None\n",
    "    table.meta[\"c\"] = [3, 4, 5]\n",
    "    small_table = apTable.Table(dict(a=np.ones(21), b=np.zeros(21)))\n",
    "    small_table.meta[\"small\"] = True\n",
    "    return(dict(data=table, md=small_table))"
   ]
  },
  {
   "cell_type": "code",
   "execution_count": 14,
   "id": "executed-tribune",
   "metadata": {},
   "outputs": [],
   "source": [
    "data = make_test_data()"
   ]
  },
  {
   "cell_type": "markdown",
   "id": "enormous-discrimination",
   "metadata": {},
   "source": [
    "### Some utility functions to get the output data shape"
   ]
  },
  {
   "cell_type": "code",
   "execution_count": 10,
   "id": "victorian-provincial",
   "metadata": {},
   "outputs": [],
   "source": [
    "def get_shapes_and_type(aDict):\n",
    "    return OrderedDict([(key, (val.shape, val.dtype)) for key, val in aDict.items()])\n",
    "\n",
    "def modify_shape(shapeIn, length):\n",
    "    shapeList = list(shapeIn)\n",
    "    shapeList[0] = length\n",
    "    return tuple(shapeList)\n",
    "\n",
    "def set_lengths(aDict, length):\n",
    "    return OrderedDict([(key, (modify_shape(val[0], length), val[1])) for key, val in aDict.items()])        "
   ]
  },
  {
   "cell_type": "markdown",
   "id": "material-reason",
   "metadata": {},
   "source": [
    "## Create the file\n",
    "\n",
    "### Here we get the output shapes and data types"
   ]
  },
  {
   "cell_type": "code",
   "execution_count": 15,
   "id": "affecting-maintenance",
   "metadata": {},
   "outputs": [],
   "source": [
    "dout = {'data':set_lengths(get_shapes_and_type(data['data']), 10000)}"
   ]
  },
  {
   "cell_type": "code",
   "execution_count": 16,
   "id": "71602bd8",
   "metadata": {},
   "outputs": [
    {
     "name": "stdout",
     "output_type": "stream",
     "text": [
      "{'data': OrderedDict({'scalar': ((10000,), dtype('float64')), 'vect': ((10000, 20), dtype('float64')), 'matrix': ((10000, 5, 5), dtype('float64'))})}\n"
     ]
    }
   ],
   "source": [
    "print(dout)"
   ]
  },
  {
   "cell_type": "markdown",
   "id": "silver-adobe",
   "metadata": {},
   "source": [
    "### Here we allocate the file"
   ]
  },
  {
   "cell_type": "code",
   "execution_count": 17,
   "id": "present-buffalo",
   "metadata": {},
   "outputs": [],
   "source": [
    "os.unlink('test_multi_write.hdf5')\n",
    "from tables_io import hdf5\n",
    "groups, fout = hdf5.initialize_HDF5_write('test_mpi_write.hdf5',comm=MPI.COMM_WORLD, **dout)"
   ]
  },
  {
   "cell_type": "markdown",
   "id": "indie-relief",
   "metadata": {},
   "source": [
    "## Write the file\n",
    "\n",
    "### Here we fill the file"
   ]
  },
  {
   "cell_type": "code",
   "execution_count": 18,
   "id": "favorite-stack",
   "metadata": {},
   "outputs": [],
   "source": [
    "for i in range(10):\n",
    "    data = make_test_data()\n",
    "    start = i*1000\n",
    "    end = (i+1)*1000\n",
    "    hdf5.write_dict_to_HDF5_chunk(groups, data, start, end)"
   ]
  },
  {
   "cell_type": "markdown",
   "id": "buried-intranet",
   "metadata": {},
   "source": [
    "### Here write the metadata and close the file"
   ]
  },
  {
   "cell_type": "code",
   "execution_count": 19,
   "id": "loving-juvenile",
   "metadata": {},
   "outputs": [],
   "source": [
    "hdf5.finalize_HDF5_write(fout, 'md', **data['md'])"
   ]
  },
  {
   "cell_type": "markdown",
   "id": "consecutive-concord",
   "metadata": {},
   "source": [
    "## Test the file\n",
    "\n",
    "### Here we read the file in chunks"
   ]
  },
  {
   "cell_type": "code",
   "execution_count": null,
   "id": "annual-christianity",
   "metadata": {},
   "outputs": [],
   "source": [
    "for chunks in tables_io.io.iterHdf5ToDict('test_multi_write.hdf5', 1000, 'data'):\n",
    "    print(\"%i:%i %s %s %s\" % (chunks[0], chunks[1], \n",
    "                              chunks[2]['matrix'].shape, chunks[2]['vect'].shape, chunks[2]['scalar'].shape))"
   ]
  },
  {
   "cell_type": "code",
   "execution_count": null,
   "id": "informal-ridge",
   "metadata": {},
   "outputs": [],
   "source": []
  },
  {
   "cell_type": "code",
   "execution_count": null,
   "id": "future-point",
   "metadata": {},
   "outputs": [],
   "source": []
  }
 ],
 "metadata": {
  "kernelspec": {
   "display_name": "tables_io",
   "language": "python",
   "name": "python3"
  },
  "language_info": {
   "codemirror_mode": {
    "name": "ipython",
    "version": 3
   },
   "file_extension": ".py",
   "mimetype": "text/x-python",
   "name": "python",
   "nbconvert_exporter": "python",
   "pygments_lexer": "ipython3",
   "version": "3.12.7"
  }
 },
 "nbformat": 4,
 "nbformat_minor": 5
}
