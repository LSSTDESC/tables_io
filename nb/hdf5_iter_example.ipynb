{
 "cells": [
  {
   "cell_type": "markdown",
   "id": "69a3ce1c",
   "metadata": {},
   "source": [
    "# Using `tables_io` to iterate of hdf5 files \n",
    "\n"
   ]
  },
  {
   "cell_type": "code",
   "execution_count": null,
   "id": "6e901576",
   "metadata": {},
   "outputs": [],
   "source": [
    "# Standard imports\n",
    "import os\n",
    "import numpy as np\n",
    "import tables_io\n",
    "from tables_io.testUtils import make_test_data"
   ]
  },
  {
   "cell_type": "markdown",
   "id": "203abbd9",
   "metadata": {},
   "source": [
    "### Some test data.\n",
    "\n",
    "Ok, lets make some test data write it to an hdf5 file."
   ]
  },
  {
   "cell_type": "code",
   "execution_count": null,
   "id": "903a0248",
   "metadata": {},
   "outputs": [],
   "source": [
    "data = make_test_data()\n",
    "td = tables_io.write(data, 'test_data', 'hdf5')"
   ]
  },
  {
   "cell_type": "code",
   "execution_count": null,
   "id": "8125c932",
   "metadata": {},
   "outputs": [],
   "source": [
    "! ls test_data*"
   ]
  },
  {
   "cell_type": "markdown",
   "id": "59d13c27",
   "metadata": {},
   "source": [
    "# Let's see how long the table is"
   ]
  },
  {
   "cell_type": "code",
   "execution_count": null,
   "id": "ce7602b0",
   "metadata": {},
   "outputs": [],
   "source": [
    "nrow = tables_io.io.getInputDataLengthHdf5('test_data.hdf5', 'data')\n",
    "print(nrow)"
   ]
  },
  {
   "cell_type": "markdown",
   "id": "d0dd9b5c",
   "metadata": {},
   "source": [
    "# And let's iterate over the data in chunks"
   ]
  },
  {
   "cell_type": "code",
   "execution_count": null,
   "id": "43fa303f",
   "metadata": {},
   "outputs": [],
   "source": [
    "for chunks in tables_io.io.iterHdf5ToDict('test_data.hdf5', 100, 'data'):\n",
    "    print(\"%i:%i %s %s %s\" % (chunks[0], chunks[1], \n",
    "                              chunks[2]['matrix'].shape, chunks[2]['vect'].shape, chunks[2]['scalar'].shape))"
   ]
  },
  {
   "cell_type": "markdown",
   "id": "ec15b5d0",
   "metadata": {},
   "source": [
    "If you want to use MPI you can specify the rank and MPI size to only iterate through the data chunks that correspond to the current node."
   ]
  },
  {
   "cell_type": "code",
   "execution_count": null,
   "id": "11f97338",
   "metadata": {},
   "outputs": [],
   "source": [
    "for chunks in tables_io.io.iterHdf5ToDict('test_data.hdf5', 100, 'data',rank=0,parallel_size=3):\n",
    "    print(\"%i:%i %s %s %s\" % (chunks[0], chunks[1], \n",
    "                              chunks[2]['matrix'].shape, chunks[2]['vect'].shape, chunks[2]['scalar'].shape))"
   ]
  },
  {
   "cell_type": "code",
   "execution_count": null,
   "id": "f3edb1e3",
   "metadata": {},
   "outputs": [],
   "source": []
  }
 ],
 "metadata": {
  "kernelspec": {
   "display_name": "Python 3 (ipykernel)",
   "language": "python",
   "name": "python3"
  },
  "language_info": {
   "codemirror_mode": {
    "name": "ipython",
    "version": 3
   },
   "file_extension": ".py",
   "mimetype": "text/x-python",
   "name": "python",
   "nbconvert_exporter": "python",
   "pygments_lexer": "ipython3",
   "version": "3.9.7"
  }
 },
 "nbformat": 4,
 "nbformat_minor": 5
}
