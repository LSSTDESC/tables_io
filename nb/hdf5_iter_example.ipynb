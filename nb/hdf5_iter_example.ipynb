{
 "cells": [
  {
   "cell_type": "markdown",
   "id": "aerial-responsibility",
   "metadata": {},
   "source": [
    "# Using `tables_io` to iterate of hdf5 files \n",
    "\n"
   ]
  },
  {
   "cell_type": "code",
   "execution_count": null,
   "id": "interior-boxing",
   "metadata": {},
   "outputs": [],
   "source": [
    "# Standard imports\n",
    "import os\n",
    "import numpy as np\n",
    "import tables_io\n",
    "from tables_io.testUtils import make_test_data"
   ]
  },
  {
   "cell_type": "markdown",
   "id": "falling-lender",
   "metadata": {},
   "source": [
    "### Some test data.\n",
    "\n",
    "Ok, lets make some test data write it to an hdf5 file."
   ]
  },
  {
   "cell_type": "code",
   "execution_count": null,
   "id": "precise-edition",
   "metadata": {},
   "outputs": [],
   "source": [
    "data = make_test_data()\n",
    "td = tables_io.write(data, 'test_data', 'hdf5')"
   ]
  },
  {
   "cell_type": "code",
   "execution_count": null,
   "id": "hollow-entrance",
   "metadata": {},
   "outputs": [],
   "source": [
    "! ls test_data*"
   ]
  },
  {
   "cell_type": "markdown",
   "id": "reasonable-deposit",
   "metadata": {},
   "source": [
    "# Let's see how long the table is"
   ]
  },
  {
   "cell_type": "code",
   "execution_count": null,
   "id": "great-mouse",
   "metadata": {},
   "outputs": [],
   "source": [
    "nrow = tables_io.io.getInputDataLengthHdf5('test_data.hdf5', 'data')\n",
    "print(nrow)"
   ]
  },
  {
   "cell_type": "markdown",
   "id": "sharing-football",
   "metadata": {},
   "source": [
    "# And let's iterate over the data in chunks"
   ]
  },
  {
   "cell_type": "code",
   "execution_count": null,
   "id": "thermal-shame",
   "metadata": {},
   "outputs": [],
   "source": [
    "for chunks in tables_io.io.iterHdf5ToDict('test_data.hdf5', 100, 'data'):\n",
    "    print(\"%i:%i %s %s %s\" % (chunks[0], chunks[1], \n",
    "                              chunks[2]['matrix'].shape, chunks[2]['vect'].shape, chunks[2]['scalar'].shape))"
   ]
  },
  {
   "cell_type": "code",
   "execution_count": null,
   "id": "great-deputy",
   "metadata": {},
   "outputs": [],
   "source": []
  },
  {
   "cell_type": "code",
   "execution_count": null,
   "id": "cubic-interstate",
   "metadata": {},
   "outputs": [],
   "source": []
  }
 ],
 "metadata": {
  "kernelspec": {
   "display_name": "Python 3",
   "language": "python",
   "name": "python3"
  },
  "language_info": {
   "codemirror_mode": {
    "name": "ipython",
    "version": 3
   },
   "file_extension": ".py",
   "mimetype": "text/x-python",
   "name": "python",
   "nbconvert_exporter": "python",
   "pygments_lexer": "ipython3",
   "version": "3.9.1"
  }
 },
 "nbformat": 4,
 "nbformat_minor": 5
}
