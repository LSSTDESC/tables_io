{
 "cells": [
  {
   "cell_type": "markdown",
   "id": "knowing-latter",
   "metadata": {},
   "source": [
    "# Using `tables_io` to write to an hdf5 file from multiple places"
   ]
  },
  {
   "cell_type": "code",
   "execution_count": null,
   "id": "settled-tractor",
   "metadata": {},
   "outputs": [],
   "source": [
    "# Standard imports\n",
    "import os\n",
    "from collections import OrderedDict\n",
    "import numpy as np\n",
    "import tables_io\n",
    "from tables_io.testUtils import make_test_data"
   ]
  },
  {
   "cell_type": "markdown",
   "id": "foster-english",
   "metadata": {},
   "source": [
    "### Some test data.\n",
    "\n",
    "Ok, lets make some test data write it to an hdf5 file."
   ]
  },
  {
   "cell_type": "code",
   "execution_count": null,
   "id": "executed-tribune",
   "metadata": {},
   "outputs": [],
   "source": [
    "data = make_test_data()"
   ]
  },
  {
   "cell_type": "markdown",
   "id": "enormous-discrimination",
   "metadata": {},
   "source": [
    "### Some utility functions to get the output data shape"
   ]
  },
  {
   "cell_type": "code",
   "execution_count": null,
   "id": "victorian-provincial",
   "metadata": {},
   "outputs": [],
   "source": [
    "def get_shapes_and_type(aDict):\n",
    "    return OrderedDict([(key, (val.shape, val.dtype)) for key, val in aDict.items()])\n",
    "\n",
    "def modify_shape(shapeIn, length):\n",
    "    shapeList = list(shapeIn)\n",
    "    shapeList[0] = length\n",
    "    return tuple(shapeList)\n",
    "\n",
    "def set_lengths(aDict, length):\n",
    "    return OrderedDict([(key, (modify_shape(val[0], length), val[1])) for key, val in aDict.items()])        "
   ]
  },
  {
   "cell_type": "markdown",
   "id": "material-reason",
   "metadata": {},
   "source": [
    "### Here we get the output shapes and data types"
   ]
  },
  {
   "cell_type": "code",
   "execution_count": null,
   "id": "affecting-maintenance",
   "metadata": {},
   "outputs": [],
   "source": [
    "dout = {'data':set_lengths(get_shapes_and_type(data['data']), 10000)}"
   ]
  },
  {
   "cell_type": "code",
   "execution_count": null,
   "id": "71602bd8",
   "metadata": {},
   "outputs": [],
   "source": [
    "print(dout)"
   ]
  },
  {
   "cell_type": "markdown",
   "id": "silver-adobe",
   "metadata": {},
   "source": [
    "### Here we allocate the file"
   ]
  },
  {
   "cell_type": "code",
   "execution_count": null,
   "id": "present-buffalo",
   "metadata": {},
   "outputs": [],
   "source": [
    "os.unlink('test_multi_write.hdf5')\n",
    "groups, fout = tables_io.io.initializeHdf5Write('test_multi_write.hdf5', **dout)"
   ]
  },
  {
   "cell_type": "markdown",
   "id": "indie-relief",
   "metadata": {},
   "source": [
    "### Here we fill the file"
   ]
  },
  {
   "cell_type": "code",
   "execution_count": null,
   "id": "favorite-stack",
   "metadata": {},
   "outputs": [],
   "source": [
    "for i in range(10):\n",
    "    data = make_test_data()\n",
    "    start = i*1000\n",
    "    end = (i+1)*1000\n",
    "    tables_io.io.writeDictToHdf5Chunk(groups, data, start, end)"
   ]
  },
  {
   "cell_type": "markdown",
   "id": "buried-intranet",
   "metadata": {},
   "source": [
    "### Here write the metadata and close the file"
   ]
  },
  {
   "cell_type": "code",
   "execution_count": null,
   "id": "loving-juvenile",
   "metadata": {},
   "outputs": [],
   "source": [
    "tables_io.io.finalizeHdf5Write(fout, 'md', **data['md'])"
   ]
  },
  {
   "cell_type": "markdown",
   "id": "consecutive-concord",
   "metadata": {},
   "source": [
    "### Here we read the file in chunks"
   ]
  },
  {
   "cell_type": "code",
   "execution_count": null,
   "id": "annual-christianity",
   "metadata": {},
   "outputs": [],
   "source": [
    "for chunks in tables_io.io.iterHdf5ToDict('test_multi_write.hdf5', 1000, 'data'):\n",
    "    print(\"%i:%i %s %s %s\" % (chunks[0], chunks[1], \n",
    "                              chunks[2]['matrix'].shape, chunks[2]['vect'].shape, chunks[2]['scalar'].shape))"
   ]
  },
  {
   "cell_type": "code",
   "execution_count": null,
   "id": "informal-ridge",
   "metadata": {},
   "outputs": [],
   "source": []
  },
  {
   "cell_type": "code",
   "execution_count": null,
   "id": "future-point",
   "metadata": {},
   "outputs": [],
   "source": []
  }
 ],
 "metadata": {
  "kernelspec": {
   "display_name": "Python 3 (ipykernel)",
   "language": "python",
   "name": "python3"
  },
  "language_info": {
   "codemirror_mode": {
    "name": "ipython",
    "version": 3
   },
   "file_extension": ".py",
   "mimetype": "text/x-python",
   "name": "python",
   "nbconvert_exporter": "python",
   "pygments_lexer": "ipython3",
   "version": "3.9.7"
  }
 },
 "nbformat": 4,
 "nbformat_minor": 5
}
