{
 "cells": [
  {
   "cell_type": "markdown",
   "id": "regulated-yesterday",
   "metadata": {},
   "source": [
    "# Using `tables_io.TableDict` \n",
    "\n",
    "The class `tables_io.TableDict` is just an Ordered Dictionary of Tables.\n",
    "\n",
    "The Tables can be in any of the formats that `tables_io` supports, see more on that in the notebook below.\n",
    "\n",
    "Let's have a look"
   ]
  },
  {
   "cell_type": "code",
   "execution_count": null,
   "id": "fatty-quarterly",
   "metadata": {},
   "outputs": [],
   "source": [
    "# Standard imports\n",
    "import os\n",
    "import numpy as np\n",
    "import tables_io\n",
    "from tables_io.testUtils import make_test_data"
   ]
  },
  {
   "cell_type": "markdown",
   "id": "formed-syndication",
   "metadata": {},
   "source": [
    "### Some test data.\n",
    "\n",
    "Ok, lets make some test data and have a look at it"
   ]
  },
  {
   "cell_type": "code",
   "execution_count": null,
   "id": "super-setup",
   "metadata": {},
   "outputs": [],
   "source": [
    "data = make_test_data()\n",
    "data"
   ]
  },
  {
   "cell_type": "markdown",
   "id": "aggressive-green",
   "metadata": {},
   "source": [
    "### Building a table dict\n",
    "\n",
    "We can using any Mapping (i.e., something that allows use to iterate over key-value pairs) to build a `TableDict`.\n",
    "\n",
    "So lets make a `TableDict`"
   ]
  },
  {
   "cell_type": "code",
   "execution_count": null,
   "id": "russian-cement",
   "metadata": {},
   "outputs": [],
   "source": [
    "td = tables_io.TableDict(data)\n",
    "td"
   ]
  },
  {
   "cell_type": "markdown",
   "id": "democratic-shaft",
   "metadata": {},
   "source": [
    "`TableDict` inherits from the `collections.OrderedDict` class, so it has the standard interface for python dictionaries"
   ]
  },
  {
   "cell_type": "code",
   "execution_count": null,
   "id": "extensive-marks",
   "metadata": {},
   "outputs": [],
   "source": [
    "td.keys()"
   ]
  },
  {
   "cell_type": "code",
   "execution_count": null,
   "id": "balanced-border",
   "metadata": {},
   "outputs": [],
   "source": [
    "td['data']"
   ]
  },
  {
   "cell_type": "code",
   "execution_count": null,
   "id": "vietnamese-pendant",
   "metadata": {},
   "outputs": [],
   "source": [
    "td['md']"
   ]
  },
  {
   "cell_type": "markdown",
   "id": "cleared-rabbit",
   "metadata": {},
   "source": [
    "### `TableDict` will not take non tables"
   ]
  },
  {
   "cell_type": "code",
   "execution_count": null,
   "id": "recent-jordan",
   "metadata": {},
   "outputs": [],
   "source": [
    "try:\n",
    "    td['bad'] = 'a'\n",
    "except TypeError as msg:\n",
    "    print(\"Caught attempt to add non table to TableDict: %s\" % msg)"
   ]
  },
  {
   "cell_type": "markdown",
   "id": "appropriate-sitting",
   "metadata": {},
   "source": [
    "# Supported Table types and converting between them\n",
    "\n",
    "`TableDict` supports several different types of tables.  These include:\n",
    "\n",
    "1. astropy Tables: `astropy.table.Table` objects\n",
    "2. Mapping of `str`, `numpy.array`\n",
    "3. pandas DataFrames: `pandas.DataFrame` objects\n",
    "\n",
    "Let's convert to each of these"
   ]
  },
  {
   "cell_type": "code",
   "execution_count": null,
   "id": "downtown-inventory",
   "metadata": {},
   "outputs": [],
   "source": [
    "td_ap = td.convert(tables_io.types.AP_TABLE)\n",
    "td_ap"
   ]
  },
  {
   "cell_type": "code",
   "execution_count": null,
   "id": "requested-texas",
   "metadata": {},
   "outputs": [],
   "source": [
    "td_np = td.convert(tables_io.types.NUMPY_DICT)\n",
    "td_np"
   ]
  },
  {
   "cell_type": "code",
   "execution_count": null,
   "id": "shaped-class",
   "metadata": {},
   "outputs": [],
   "source": [
    "td_pd = td.convert(tables_io.types.PD_DATAFRAME)\n",
    "td_pd"
   ]
  },
  {
   "cell_type": "markdown",
   "id": "fewer-prize",
   "metadata": {},
   "source": [
    "# File IO with `TableDict`\n",
    "\n",
    "We can write tables into several different formats.  These include:\n",
    "\n",
    "1. fits:  Writing `astropy.table.Table` objects to FITS files (with the suffix 'fits')\n",
    "2. hf5: Writing `astropy.table.Table` objects to HDF5 files (with the suffix 'hf5')\n",
    "3. hfd5: Writing `numpy.array` objects to HDF5 files (with the suffix 'hdf5')\n",
    "4. h5: Writing `pandas.DataFrame` objects to HDF5 files (with the suffix 'h5')\n",
    "5. pq: Writing `pandas.DataFrame` objects to parquet files (with the suffix 'pq')\n",
    "\n",
    "Also, each table type has a 'native' format that we use as a default.  Setting the `fmt` to `None` in function calls will typically use the 'native' format."
   ]
  },
  {
   "cell_type": "code",
   "execution_count": null,
   "id": "everyday-salad",
   "metadata": {},
   "outputs": [],
   "source": [
    "all_fmts = list(tables_io.types.FILE_FORMAT_SUFFIXS.keys()) + [None]\n",
    "print(all_fmts)"
   ]
  },
  {
   "cell_type": "markdown",
   "id": "bridal-notification",
   "metadata": {},
   "source": [
    "# Ok let's write the data to different files"
   ]
  },
  {
   "cell_type": "code",
   "execution_count": null,
   "id": "encouraging-college",
   "metadata": {},
   "outputs": [],
   "source": [
    "for fmt in all_fmts:\n",
    "    if fmt is None:\n",
    "        basename = 'test_native'\n",
    "    else:\n",
    "        basename = 'test_out'\n",
    "    print(\"Writing to %s using format %s\" % (basename, fmt))\n",
    "    try:\n",
    "        os.unlink('%s.%s' % (basename, fmt))\n",
    "    except:\n",
    "        pass\n",
    "    try:\n",
    "        td.write(basename, fmt)\n",
    "    except ImportError as msg:\n",
    "        print(\"Skipping format %s because %s\" % (fmt, msg))"
   ]
  },
  {
   "cell_type": "code",
   "execution_count": null,
   "id": "killing-warrant",
   "metadata": {},
   "outputs": [],
   "source": [
    "! ls test_*"
   ]
  },
  {
   "cell_type": "markdown",
   "id": "south-excess",
   "metadata": {},
   "source": [
    "# Ok, now let's read things back"
   ]
  },
  {
   "cell_type": "code",
   "execution_count": null,
   "id": "retained-cabinet",
   "metadata": {},
   "outputs": [],
   "source": [
    "td_r_fits = tables_io.TableDict.read(\"test_out.fits\")\n",
    "td_r_fits"
   ]
  },
  {
   "cell_type": "code",
   "execution_count": null,
   "id": "particular-quest",
   "metadata": {},
   "outputs": [],
   "source": [
    "td_r_hdf5 = tables_io.TableDict.read(\"test_out.hdf5\")\n",
    "td_r_hdf5"
   ]
  },
  {
   "cell_type": "code",
   "execution_count": null,
   "id": "baking-charm",
   "metadata": {},
   "outputs": [],
   "source": [
    "td_r_hf5 = tables_io.TableDict.read(\"test_out.hf5\")\n",
    "td_r_hf5"
   ]
  },
  {
   "cell_type": "code",
   "execution_count": null,
   "id": "sticky-collective",
   "metadata": {},
   "outputs": [],
   "source": [
    "td_r_pq = tables_io.TableDict.read(\"test_out.pq\", keys=list(td.keys()))\n",
    "td_r_pq"
   ]
  },
  {
   "cell_type": "code",
   "execution_count": null,
   "id": "meaning-democrat",
   "metadata": {},
   "outputs": [],
   "source": [
    "td_r_h5 = tables_io.TableDict.read(\"test_out.h5\")\n",
    "td_r_h5"
   ]
  },
  {
   "cell_type": "code",
   "execution_count": null,
   "id": "figured-justice",
   "metadata": {},
   "outputs": [],
   "source": [
    "td_native = tables_io.TableDict.read(\"test_out.hf5\")\n",
    "td_native"
   ]
  },
  {
   "cell_type": "code",
   "execution_count": null,
   "id": "cosmetic-creator",
   "metadata": {},
   "outputs": [],
   "source": []
  },
  {
   "cell_type": "code",
   "execution_count": null,
   "id": "personal-error",
   "metadata": {},
   "outputs": [],
   "source": []
  }
 ],
 "metadata": {
  "kernelspec": {
   "display_name": "Python 3",
   "language": "python",
   "name": "python3"
  },
  "language_info": {
   "codemirror_mode": {
    "name": "ipython",
    "version": 3
   },
   "file_extension": ".py",
   "mimetype": "text/x-python",
   "name": "python",
   "nbconvert_exporter": "python",
   "pygments_lexer": "ipython3",
   "version": "3.9.1"
  }
 },
 "nbformat": 4,
 "nbformat_minor": 5
}
